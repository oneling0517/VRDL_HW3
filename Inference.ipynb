{
  "nbformat": 4,
  "nbformat_minor": 0,
  "metadata": {
    "accelerator": "GPU",
    "colab": {
      "name": "Inference.ipynb",
      "provenance": []
    },
    "kernelspec": {
      "display_name": "Python 3",
      "name": "python3"
    },
    "language_info": {
      "name": "python"
    }
  },
  "cells": [
    {
      "cell_type": "markdown",
      "metadata": {
        "id": "LGLnz4apfPMG"
      },
      "source": [
        "# Use GPU"
      ]
    },
    {
      "cell_type": "code",
      "metadata": {
        "colab": {
          "base_uri": "https://localhost:8080/"
        },
        "id": "u3rG-rjUEKyZ",
        "outputId": "09db3b4f-84c5-4fb7-b983-f3bd0b0767d6"
      },
      "source": [
        "# Make sure you use the Colab GPU to run the testing phase\n",
        "\n",
        "import torch\n",
        "torch.cuda.is_available()"
      ],
      "execution_count": null,
      "outputs": [
        {
          "output_type": "execute_result",
          "data": {
            "text/plain": [
              "True"
            ]
          },
          "metadata": {},
          "execution_count": 1
        }
      ]
    },
    {
      "cell_type": "markdown",
      "metadata": {
        "id": "uA_I5ZHmv8Je"
      },
      "source": [
        "# Git clone your project"
      ]
    },
    {
      "cell_type": "code",
      "metadata": {
        "id": "TWkyJWPwfBy7"
      },
      "source": [
        "import os\n",
        "import cv2\n",
        "import json\n",
        "import h5py\n",
        "import numpy as np"
      ],
      "execution_count": 50,
      "outputs": []
    },
    {
      "cell_type": "code",
      "source": [
        "os.chdir('/content')\n",
        "!git clone https://github.com/cocodataset/cocoapi.git"
      ],
      "metadata": {
        "id": "jCSfFwxCIMNY"
      },
      "execution_count": null,
      "outputs": []
    },
    {
      "cell_type": "code",
      "source": [
        "os.chdir('/content/cocoapi/PythonAPI')\n",
        "!python3 setup.py build_ext install\n",
        "!make"
      ],
      "metadata": {
        "id": "wKB8UkD-IdNz"
      },
      "execution_count": null,
      "outputs": []
    },
    {
      "cell_type": "code",
      "metadata": {
        "id": "_hteyN2COWmz"
      },
      "source": [
        "!git clone https://github.com/matterport/Mask_RCNN.git\n",
        "os.chdir(\"/content/Mask_RCNN/samples\")\n",
        "!git clone https://github.com/oneling0517/VRDL_HW3.git"
      ],
      "execution_count": null,
      "outputs": []
    },
    {
      "cell_type": "code",
      "source": [
        "!cp -r /content/cocoapi/PythonAPI/pycocotools /content/Mask_RCNN/samples/VRDL_HW3/"
      ],
      "metadata": {
        "id": "WYo4_LqFImki"
      },
      "execution_count": 17,
      "outputs": []
    },
    {
      "cell_type": "markdown",
      "metadata": {
        "id": "Lkfa5oogABJB"
      },
      "source": [
        "# Download Data"
      ]
    },
    {
      "cell_type": "code",
      "metadata": {
        "id": "4jL5aZH-2Jtu"
      },
      "source": [
        "os.chdir(\"/content/Mask_RCNN\")\n",
        "!gdown --id '1nEJ7NTtHcCHNQqUXaoPk55VH3Uwh4QGG' --output dataset.zip\n",
        "\n",
        "!apt-get install unzi\n",
        "!unzip -q 'dataset.zip' -d dataset\n",
        "# try to comment -d dataset next time"
      ],
      "execution_count": null,
      "outputs": []
    },
    {
      "cell_type": "markdown",
      "metadata": {
        "id": "v6HNvj2UfLJu"
      },
      "source": [
        "# Install your requirements"
      ]
    },
    {
      "cell_type": "code",
      "metadata": {
        "id": "JmVWg-HgL8Zx"
      },
      "source": [
        "os.chdir(\"/content/Mask_RCNN\")\n",
        "!pip3 install -r requirements.txt\n",
        "!python3 setup.py install"
      ],
      "execution_count": null,
      "outputs": []
    },
    {
      "cell_type": "code",
      "metadata": {
        "id": "bA4VyX8sNbSH"
      },
      "source": [
        "!pip uninstall keras"
      ],
      "execution_count": null,
      "outputs": []
    },
    {
      "cell_type": "code",
      "metadata": {
        "id": "GxltmIdBve04"
      },
      "source": [
        "%tensorflow_version 1.x\n",
        "!pip install keras==2.0.8\n",
        "!pip install tensorflow-gpu==1.15.2"
      ],
      "execution_count": null,
      "outputs": []
    },
    {
      "cell_type": "code",
      "source": [
        "# If there is an error last time, you can run this.\n",
        "!pip install keras==2.0.8"
      ],
      "metadata": {
        "id": "3ChJ5yAnX4hO"
      },
      "execution_count": null,
      "outputs": []
    },
    {
      "cell_type": "code",
      "source": [
        "!pip uninstall h5py"
      ],
      "metadata": {
        "id": "F1nM0zW5DaRv"
      },
      "execution_count": null,
      "outputs": []
    },
    {
      "cell_type": "code",
      "source": [
        "!pip install h5py==2.10 -i https://pypi.tuna.tsinghua.edu.cn/simple/"
      ],
      "metadata": {
        "id": "ESvcS_VBFQir"
      },
      "execution_count": null,
      "outputs": []
    },
    {
      "cell_type": "markdown",
      "source": [
        "# Check the version"
      ],
      "metadata": {
        "id": "DSe4NWzmlE3q"
      }
    },
    {
      "cell_type": "code",
      "source": [
        "import tensorflow as tf\n",
        "import keras as kr\n",
        "\n",
        "print(\"Tensorflow:\", tf.__version__)\n",
        "print(\"Keras:\", kr.__version__)"
      ],
      "metadata": {
        "id": "iNNFa-XYpEHY"
      },
      "execution_count": null,
      "outputs": []
    },
    {
      "cell_type": "markdown",
      "source": [
        "# Download the weights"
      ],
      "metadata": {
        "id": "xrU-PiVejwID"
      }
    },
    {
      "cell_type": "code",
      "source": [
        "os.chdir(\"/content/Mask_RCNN\")\n",
        "!gdown --id '1Apj1jhAVYkVR-SDFrIpeDchNBDkPjfMd' --output weights19.zip\n",
        "\n",
        "!apt-get install unzi\n",
        "!unzip -q 'weights19.zip' -d log"
      ],
      "metadata": {
        "id": "jc8Tzhui6XN8"
      },
      "execution_count": null,
      "outputs": []
    },
    {
      "cell_type": "markdown",
      "metadata": {
        "id": "jc_nuDBrqtT_"
      },
      "source": [
        "# Testing and generate submission"
      ]
    },
    {
      "cell_type": "code",
      "metadata": {
        "id": "JoeeNmfxpY2-"
      },
      "source": [
        "os.chdir(\"/content/Mask_RCNN/samples/VRDL_HW3\")\n",
        "!python3 nucleus.py detect --dataset=/content/Mask_RCNN/dataset/dataset --subset=test --weights=/content/Mask_RCNN/log/mask_rcnn_nucleus_0019.h5"
      ],
      "execution_count": null,
      "outputs": []
    }
  ]
}