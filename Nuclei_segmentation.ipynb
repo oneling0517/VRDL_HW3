{
  "nbformat": 4,
  "nbformat_minor": 0,
  "metadata": {
    "accelerator": "GPU",
    "colab": {
      "name": "Nuclei segmentation.ipynb",
      "provenance": [],
      "machine_shape": "hm"
    },
    "kernelspec": {
      "display_name": "Python 3",
      "name": "python3"
    },
    "language_info": {
      "name": "python"
    }
  },
  "cells": [
    {
      "cell_type": "markdown",
      "metadata": {
        "id": "LGLnz4apfPMG"
      },
      "source": [
        "# Use GPU"
      ]
    },
    {
      "cell_type": "code",
      "metadata": {
        "colab": {
          "base_uri": "https://localhost:8080/"
        },
        "id": "u3rG-rjUEKyZ",
        "outputId": "09db3b4f-84c5-4fb7-b983-f3bd0b0767d6"
      },
      "source": [
        "# Make sure you use the Colab GPU to run the testing phase\n",
        "\n",
        "import torch\n",
        "torch.cuda.is_available()"
      ],
      "execution_count": 1,
      "outputs": [
        {
          "output_type": "execute_result",
          "data": {
            "text/plain": [
              "True"
            ]
          },
          "metadata": {},
          "execution_count": 1
        }
      ]
    },
    {
      "cell_type": "markdown",
      "metadata": {
        "id": "uA_I5ZHmv8Je"
      },
      "source": [
        "# Git clone your project"
      ]
    },
    {
      "cell_type": "code",
      "metadata": {
        "id": "TWkyJWPwfBy7"
      },
      "source": [
        "import os\n",
        "import cv2\n",
        "import json\n",
        "import h5py\n",
        "import numpy as np"
      ],
      "execution_count": 2,
      "outputs": []
    },
    {
      "cell_type": "code",
      "source": [
        "os.chdir('/content')\n",
        "!git clone https://github.com/cocodataset/cocoapi.git"
      ],
      "metadata": {
        "id": "jCSfFwxCIMNY"
      },
      "execution_count": null,
      "outputs": []
    },
    {
      "cell_type": "code",
      "source": [
        "os.chdir('/content/cocoapi/PythonAPI')\n",
        "!python3 setup.py build_ext install\n",
        "!make"
      ],
      "metadata": {
        "id": "wKB8UkD-IdNz"
      },
      "execution_count": null,
      "outputs": []
    },
    {
      "cell_type": "code",
      "metadata": {
        "id": "_hteyN2COWmz"
      },
      "source": [
        "!git clone https://github.com/matterport/Mask_RCNN.git\n",
        "os.chdir(\"/content/Mask_RCNN/samples\")\n",
        "!git clone https://github.com/oneling0517/VRDL_HW3.git"
      ],
      "execution_count": null,
      "outputs": []
    },
    {
      "cell_type": "code",
      "source": [
        "!cp -r /content/cocoapi/PythonAPI/pycocotools /content/Mask_RCNN/samples/VRDL_HW3/"
      ],
      "metadata": {
        "id": "WYo4_LqFImki"
      },
      "execution_count": null,
      "outputs": []
    },
    {
      "cell_type": "markdown",
      "metadata": {
        "id": "Lkfa5oogABJB"
      },
      "source": [
        "# Download Data"
      ]
    },
    {
      "cell_type": "code",
      "metadata": {
        "id": "4jL5aZH-2Jtu"
      },
      "source": [
        "os.chdir(\"/content/Mask_RCNN\")\n",
        "!gdown --id '1nEJ7NTtHcCHNQqUXaoPk55VH3Uwh4QGG' --output dataset.zip\n",
        "\n",
        "!apt-get install unzi\n",
        "!unzip -q 'dataset.zip' -d dataset\n",
        "# try to comment -d dataset next time"
      ],
      "execution_count": null,
      "outputs": []
    },
    {
      "cell_type": "markdown",
      "metadata": {
        "id": "v6HNvj2UfLJu"
      },
      "source": [
        "# Install your requirements"
      ]
    },
    {
      "cell_type": "code",
      "metadata": {
        "id": "JmVWg-HgL8Zx"
      },
      "source": [
        "os.chdir(\"/content/Mask_RCNN\")\n",
        "!pip3 install -r requirements.txt\n",
        "!python3 setup.py install"
      ],
      "execution_count": null,
      "outputs": []
    },
    {
      "cell_type": "code",
      "metadata": {
        "id": "bA4VyX8sNbSH"
      },
      "source": [
        "!pip uninstall keras"
      ],
      "execution_count": null,
      "outputs": []
    },
    {
      "cell_type": "code",
      "metadata": {
        "id": "GxltmIdBve04"
      },
      "source": [
        "%tensorflow_version 1.x\n",
        "!pip install keras==2.0.8\n",
        "!pip install tensorflow-gpu==1.15.2"
      ],
      "execution_count": null,
      "outputs": []
    },
    {
      "cell_type": "code",
      "source": [
        "# If there is an error last time, you can run this.\n",
        "!pip install keras==2.0.8"
      ],
      "metadata": {
        "id": "3ChJ5yAnX4hO"
      },
      "execution_count": null,
      "outputs": []
    },
    {
      "cell_type": "markdown",
      "source": [
        "# Check the version"
      ],
      "metadata": {
        "id": "DSe4NWzmlE3q"
      }
    },
    {
      "cell_type": "code",
      "source": [
        "import tensorflow as tf\n",
        "import keras as kr\n",
        "\n",
        "print(\"Tensorflow:\", tf.__version__)\n",
        "print(\"Keras:\", kr.__version__)"
      ],
      "metadata": {
        "colab": {
          "base_uri": "https://localhost:8080/"
        },
        "id": "iNNFa-XYpEHY",
        "outputId": "9541c25a-ea01-49ba-cf63-ac1773c8da3f"
      },
      "execution_count": 9,
      "outputs": [
        {
          "output_type": "stream",
          "name": "stderr",
          "text": [
            "Using TensorFlow backend.\n"
          ]
        },
        {
          "output_type": "stream",
          "name": "stdout",
          "text": [
            "Tensorflow: 1.15.2\n",
            "Keras: 2.0.8\n"
          ]
        }
      ]
    },
    {
      "cell_type": "markdown",
      "metadata": {
        "id": "QyE5FPxfbmkN"
      },
      "source": [
        "# Load Folder Name"
      ]
    },
    {
      "cell_type": "code",
      "metadata": {
        "colab": {
          "base_uri": "https://localhost:8080/"
        },
        "id": "mwYCXJ4xAVnK",
        "outputId": "814de6e9-74bc-49b2-c68e-19c7834269d3"
      },
      "source": [
        "os.chdir(\"/content/Mask_RCNN\")\n",
        "dir = \"/dataset/dataset/train/\"\n",
        "array_of_img = [] \n",
        "folder_name = []\n",
        "def read_directory(directory_name):\n",
        "    # this loop is for read each image in this foder,directory_name is the foder name with images.\n",
        "  num=0\n",
        "  for filename in os.listdir(r\"./\"+directory_name):\n",
        "      i=0\n",
        "      folder_name.append(filename)\n",
        "      num+=1\n",
        "  print(folder_name)\n",
        "\n",
        "read_directory(dir)"
      ],
      "execution_count": null,
      "outputs": [
        {
          "output_type": "stream",
          "name": "stdout",
          "text": [
            "['TCGA-G9-6362-01Z-00-DX1', 'TCGA-21-5784-01Z-00-DX1', 'TCGA-AR-A1AS-01Z-00-DX1', 'TCGA-A7-A13F-01Z-00-DX1', 'TCGA-E2-A14V-01Z-00-DX1', 'TCGA-RD-A8N9-01A-01-TS1', 'TCGA-49-4488-01Z-00-DX1', 'TCGA-E2-A1B5-01Z-00-DX1', 'TCGA-G9-6356-01Z-00-DX1', 'TCGA-KB-A93J-01A-01-TS1', 'TCGA-AR-A1AK-01Z-00-DX1', 'TCGA-B0-5710-01Z-00-DX1', 'TCGA-HE-7129-01Z-00-DX1', 'TCGA-18-5592-01Z-00-DX1', 'TCGA-HE-7128-01Z-00-DX1', 'TCGA-B0-5698-01Z-00-DX1', 'TCGA-HE-7130-01Z-00-DX1', 'TCGA-21-5786-01Z-00-DX1', 'TCGA-38-6178-01Z-00-DX1', 'TCGA-CH-5767-01Z-00-DX1', 'TCGA-NH-A8F7-01A-01-TS1', 'TCGA-B0-5711-01Z-00-DX1', 'TCGA-G9-6363-01Z-00-DX1', 'TCGA-DK-A2I6-01A-01-TS1']\n"
          ]
        }
      ]
    },
    {
      "cell_type": "markdown",
      "metadata": {
        "id": "zXovAquWYuGN"
      },
      "source": [
        "# Start Training"
      ]
    },
    {
      "cell_type": "code",
      "metadata": {
        "id": "PzQRjSdUKkcF"
      },
      "source": [
        "os.chdir(\"/content/Mask_RCNN/samples/VRDL_HW3\")\n",
        "!python3 nucleus.py train --dataset=/content/Mask_RCNN/dataset/dataset --subset=train --weights=imagenet"
      ],
      "execution_count": null,
      "outputs": []
    },
    {
      "cell_type": "markdown",
      "source": [
        "# Install another h5py version"
      ],
      "metadata": {
        "id": "dO8RsUXeHtsB"
      }
    },
    {
      "cell_type": "code",
      "source": [
        "!pip uninstall h5py"
      ],
      "metadata": {
        "id": "F1nM0zW5DaRv"
      },
      "execution_count": null,
      "outputs": []
    },
    {
      "cell_type": "code",
      "source": [
        "!pip install h5py==2.10 -i https://pypi.tuna.tsinghua.edu.cn/simple/"
      ],
      "metadata": {
        "id": "ESvcS_VBFQir"
      },
      "execution_count": null,
      "outputs": []
    },
    {
      "cell_type": "markdown",
      "source": [
        "# Validation"
      ],
      "metadata": {
        "id": "EsJcFCWxICGa"
      }
    },
    {
      "cell_type": "code",
      "source": [
        "os.chdir(\"/content/Mask_RCNN/samples/VRDL_HW3\")\n",
        "\n",
        "!python3 nucleus.py detect --dataset=/content/Mask_RCNN/dataset/dataset --subset=val --weights=/content/Mask_RCNN/logs/nucleus20211216T1419/mask_rcnn_nucleus_0019.h5"
      ],
      "metadata": {
        "id": "PpZO7Rn67Tsd"
      },
      "execution_count": null,
      "outputs": []
    },
    {
      "cell_type": "markdown",
      "metadata": {
        "id": "jc_nuDBrqtT_"
      },
      "source": [
        "# Testing"
      ]
    },
    {
      "cell_type": "code",
      "source": [
        "os.chdir(\"/content/Mask_RCNN/dataset/dataset\")\n",
        "with open('test_img_ids.json') as f:\n",
        "  data = json.load(f)\n",
        "\n",
        "print(data)"
      ],
      "metadata": {
        "colab": {
          "base_uri": "https://localhost:8080/"
        },
        "id": "UG9tLnHTOJZu",
        "outputId": "039e9e5d-1d8e-4637-ce38-1cd3ae6e1f29"
      },
      "execution_count": 34,
      "outputs": [
        {
          "output_type": "stream",
          "name": "stdout",
          "text": [
            "[{'file_name': 'TCGA-A7-A13E-01Z-00-DX1.png', 'height': 1000, 'id': 1, 'width': 1000}, {'file_name': 'TCGA-50-5931-01Z-00-DX1.png', 'height': 1000, 'id': 2, 'width': 1000}, {'file_name': 'TCGA-G2-A2EK-01A-02-TSB.png', 'height': 1000, 'id': 3, 'width': 1000}, {'file_name': 'TCGA-AY-A8YK-01A-01-TS1.png', 'height': 1000, 'id': 4, 'width': 1000}, {'file_name': 'TCGA-G9-6336-01Z-00-DX1.png', 'height': 1000, 'id': 5, 'width': 1000}, {'file_name': 'TCGA-G9-6348-01Z-00-DX1.png', 'height': 1000, 'id': 6, 'width': 1000}]\n"
          ]
        }
      ]
    },
    {
      "cell_type": "code",
      "metadata": {
        "id": "JoeeNmfxpY2-"
      },
      "source": [
        "os.chdir(\"/content/Mask_RCNN/samples/VRDL_HW3\")\n",
        "!python3 nucleus.py detect --dataset=/content/Mask_RCNN/dataset/dataset --subset=test --weights=/content/Mask_RCNN/logs/nucleus20211216T1419/mask_rcnn_nucleus_0019.h5"
      ],
      "execution_count": null,
      "outputs": []
    }
  ]
}